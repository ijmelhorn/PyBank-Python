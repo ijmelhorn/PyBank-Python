{
 "cells": [
  {
   "cell_type": "code",
   "execution_count": 1,
   "source": [
    "\"\"\"PyBank Homework Analysis\"\"\"\r\n",
    "\r\n",
    "# Import\r\n",
    "import csv\r\n",
    "from pathlib import Path\r\n",
    "\r\n",
    "# File paths: load and output\r\n",
    "file_to_load = Path(\"Resources/budget_data.csv\")\r\n",
    "file_to_output = Path(\"Output/budget_analysis.txt\")\r\n",
    "\r\n",
    "# Financial parameters\r\n",
    "total_months = 0\r\n",
    "month_of_change = []\r\n",
    "net_change_list = []\r\n",
    "greatest_increase = [\"\", 0]\r\n",
    "greatest_decrease = [\"\", 9999999999999999999]\r\n",
    "total_net = 0\r\n",
    "\r\n",
    "# Read in csv and convert to a list of dictionaries\r\n",
    "with open(file_to_load) as financial_data:\r\n",
    "    reader = csv.reader(financial_data)\r\n",
    "\r\n",
    "    # Header row\r\n",
    "    header = next(reader)\r\n",
    "\r\n",
    "    # Extract first row\r\n",
    "    first_row = next(reader)\r\n",
    "    total_months = total_months + 1\r\n",
    "    total_net = total_net + int(first_row[1])\r\n",
    "    prev_net = int(first_row[1])\r\n",
    "\r\n",
    "    for row in reader:\r\n",
    "\r\n",
    "        # Totals\r\n",
    "        total_months = total_months + 1\r\n",
    "        total_net = total_net + int(row[1])\r\n",
    "\r\n",
    "        # Net change\r\n",
    "        net_change = int(row[1]) - prev_net\r\n",
    "        prev_net = int(row[1])\r\n",
    "        net_change_list = net_change_list + [net_change]\r\n",
    "        month_of_change = month_of_change + [row[0]]\r\n",
    "\r\n",
    "        # Greatest increase\r\n",
    "        if net_change > greatest_increase[1]:\r\n",
    "            greatest_increase[0] = row[0]\r\n",
    "            greatest_increase[1] = net_change\r\n",
    "\r\n",
    "        # Greatest decrease\r\n",
    "        if net_change < greatest_decrease[1]:\r\n",
    "            greatest_decrease[0] = row[0]\r\n",
    "            greatest_decrease[1] = net_change\r\n",
    "\r\n",
    "# Average Net Change\r\n",
    "net_monthly_avg = sum(net_change_list) / len(net_change_list)\r\n",
    "\r\n",
    "# Output Summary\r\n",
    "output = (\r\n",
    "    f\"\\nFinancial Analysis\\n\"\r\n",
    "    f\"----------------------------\\n\"\r\n",
    "    f\"Total Months: {total_months}\\n\"\r\n",
    "    f\"Total: ${total_net}\\n\"\r\n",
    "    f\"Average  Change: ${net_monthly_avg:.2f}\\n\"\r\n",
    "    f\"Greatest Increase in Profits: {greatest_increase[0]} (${greatest_increase[1]})\\n\"\r\n",
    "    f\"Greatest Decrease in Profits: {greatest_decrease[0]} (${greatest_decrease[1]})\\n\")\r\n",
    "\r\n",
    "# Print the output\r\n",
    "print(output)\r\n",
    "\r\n",
    "# Export results to text file\r\n",
    "with open(file_to_output, \"w\") as txt_file:\r\n",
    "    txt_file.write(output)"
   ],
   "outputs": [
    {
     "output_type": "stream",
     "name": "stdout",
     "text": [
      "\n",
      "Financial Analysis\n",
      "----------------------------\n",
      "Total Months: 86\n",
      "Total: $38382578\n",
      "Average  Change: $-2315.12\n",
      "Greatest Increase in Profits: Feb-2012 ($1926159)\n",
      "Greatest Decrease in Profits: Sep-2013 ($-2196167)\n",
      "\n"
     ]
    }
   ],
   "metadata": {}
  },
  {
   "cell_type": "code",
   "execution_count": null,
   "source": [],
   "outputs": [],
   "metadata": {}
  }
 ],
 "metadata": {
  "kernelspec": {
   "display_name": "Python 3",
   "language": "python",
   "name": "python3"
  },
  "language_info": {
   "codemirror_mode": {
    "name": "ipython",
    "version": 3
   },
   "file_extension": ".py",
   "mimetype": "text/x-python",
   "name": "python",
   "nbconvert_exporter": "python",
   "pygments_lexer": "ipython3",
   "version": "3.8.8"
  }
 },
 "nbformat": 4,
 "nbformat_minor": 5
}